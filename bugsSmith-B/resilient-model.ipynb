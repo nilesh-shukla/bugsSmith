{
 "cells": [
  {
   "cell_type": "code",
   "execution_count": 1,
   "id": "7e2cd59a",
   "metadata": {},
   "outputs": [
    {
     "name": "stdout",
     "output_type": "stream",
     "text": [
      "Requirement already satisfied: flask-cors in c:\\users\\shukl\\anaconda3\\lib\\site-packages (6.0.1)\n",
      "Requirement already satisfied: flask>=0.9 in c:\\users\\shukl\\anaconda3\\lib\\site-packages (from flask-cors) (3.0.3)\n",
      "Requirement already satisfied: Werkzeug>=0.7 in c:\\users\\shukl\\anaconda3\\lib\\site-packages (from flask-cors) (3.0.3)\n",
      "Requirement already satisfied: Jinja2>=3.1.2 in c:\\users\\shukl\\anaconda3\\lib\\site-packages (from flask>=0.9->flask-cors) (3.1.4)\n",
      "Requirement already satisfied: itsdangerous>=2.1.2 in c:\\users\\shukl\\anaconda3\\lib\\site-packages (from flask>=0.9->flask-cors) (2.2.0)\n",
      "Requirement already satisfied: click>=8.1.3 in c:\\users\\shukl\\anaconda3\\lib\\site-packages (from flask>=0.9->flask-cors) (8.1.7)\n",
      "Requirement already satisfied: blinker>=1.6.2 in c:\\users\\shukl\\anaconda3\\lib\\site-packages (from flask>=0.9->flask-cors) (1.6.2)\n",
      "Requirement already satisfied: MarkupSafe>=2.1.1 in c:\\users\\shukl\\anaconda3\\lib\\site-packages (from Werkzeug>=0.7->flask-cors) (2.1.3)\n",
      "Requirement already satisfied: colorama in c:\\users\\shukl\\anaconda3\\lib\\site-packages (from click>=8.1.3->flask>=0.9->flask-cors) (0.4.6)\n",
      "Note: you may need to restart the kernel to use updated packages.\n"
     ]
    }
   ],
   "source": [
    "%pip install flask-cors"
   ]
  },
  {
   "cell_type": "code",
   "execution_count": 52,
   "id": "650ad9ee",
   "metadata": {},
   "outputs": [],
   "source": [
    "from flask import Flask, request, jsonify\n",
    "from flask_cors import CORS\n",
    "import joblib\n",
    "import numpy as np\n",
    "import pandas as pd\n",
    "from io import StringIO\n",
    "import threading\n",
    "import time\n",
    "import nest_asyncio\n",
    "import sys"
   ]
  },
  {
   "cell_type": "code",
   "execution_count": 53,
   "id": "8ec1123b",
   "metadata": {},
   "outputs": [],
   "source": [
    "MODLE_FILE_PATH = './random_forest_model.pkl'\n",
    "EXPECTED_FEATURES = [\n",
    "    'default_profile_image',\n",
    "    'statuses_count',\n",
    "    'followers_count',\n",
    "    'friends_count',\n",
    "    'protected',\n",
    "    'name_length',\n",
    "    'follower_ratio'\n",
    "]\n",
    "\n",
    "RAW_COLUMNS_NEEDED = {\n",
    "    'statuses_count': 'statuses_count',\n",
    "    'followers_count': 'followers_count',\n",
    "    'friends_count': 'friends_count',\n",
    "    'default_profile_image': 'default_profile_image',\n",
    "    'protected': 'protected',\n",
    "    'name': 'name'\n",
    "}"
   ]
  },
  {
   "cell_type": "code",
   "execution_count": 54,
   "id": "add28715",
   "metadata": {},
   "outputs": [
    {
     "name": "stdout",
     "output_type": "stream",
     "text": [
      "Model ./random_forest_model.pkl loaded succesfully.\n"
     ]
    }
   ],
   "source": [
    "try: \n",
    "    MODEL = joblib.load(MODLE_FILE_PATH)\n",
    "    print(f\"Model {MODLE_FILE_PATH} loaded succesfully.\")\n",
    "except FileNotFoundError:\n",
    "    print(f\"Missing model file: {MODLE_FILE_PATH}\")"
   ]
  },
  {
   "cell_type": "code",
   "execution_count": 55,
   "id": "3c69ec5f",
   "metadata": {},
   "outputs": [
    {
     "data": {
      "text/plain": [
       "<flask_cors.extension.CORS at 0x1b467447f80>"
      ]
     },
     "execution_count": 55,
     "metadata": {},
     "output_type": "execute_result"
    }
   ],
   "source": [
    "app = Flask(__name__)\n",
    "CORS(app)"
   ]
  },
  {
   "cell_type": "code",
   "execution_count": 56,
   "id": "22f1d47a",
   "metadata": {},
   "outputs": [],
   "source": [
    "def assign_risk_category(score):\n",
    "    if score >= 91:\n",
    "        return {\"category\": \"CRITICAL RISK\", \"color\": \"red\"}\n",
    "    if score >= 66:\n",
    "        return {\"category\": \"BOT\", \"color\": \"amber\"}\n",
    "    if score >= 31:\n",
    "        return {\"category\": \"MODERATE\", \"color\": \"yellow\"}\n",
    "    return {\"category\": \"GENUINE\", \"color\": \"green\"}"
   ]
  },
  {
   "cell_type": "code",
   "execution_count": null,
   "id": "d6c886b8",
   "metadata": {},
   "outputs": [
    {
     "name": "stdout",
     "output_type": "stream",
     "text": [
      "\n",
      "--- FLASK SERVER STATUS ---\n",
      "Flask server started successfully on http://127.0.0.1:8000/\n"
     ]
    },
    {
     "name": "stderr",
     "output_type": "stream",
     "text": [
      "127.0.0.1 - - [20/Oct/2025 10:44:06] \"GET /health HTTP/1.1\" 200 -\n",
      "127.0.0.1 - - [20/Oct/2025 10:44:13] \"POST /batch-predict HTTP/1.1\" 200 -\n",
      "127.0.0.1 - - [20/Oct/2025 10:44:13] \"POST /batch-predict HTTP/1.1\" 200 -\n"
     ]
    }
   ],
   "source": [
    "# when re-running cells in a notebook, remove existing view functions to avoid duplicate registration errors\n",
    "for _ep in ('health','batch_predict'):\n",
    "    if _ep in app.view_functions:\n",
    "        app.view_functions.pop(_ep)\n",
    "\n",
    "@app.route('/health', methods=['GET'])\n",
    "def health():\n",
    "    return jsonify({'status': 'ok'}), 200\n",
    "\n",
    "@app.route('/batch-predict', methods=['POST'])\n",
    "def batch_predict():\n",
    "    # basic validations\n",
    "    if 'file' not in request.files:\n",
    "        return jsonify({'error': 'No file part in the request'}), 400\n",
    "\n",
    "    file = request.files['file']\n",
    "    if file.filename == '' or not file.filename.endswith('.csv'):\n",
    "        return jsonify({'error': 'No selected file or file is not a CSV'}), 400\n",
    "\n",
    "    try:\n",
    "        file_content = file.read().decode('latin1')\n",
    "        df = pd.read_csv(StringIO(file_content))\n",
    "    except Exception as e:\n",
    "        return jsonify({'error': 'File Read/Format Error', 'details': str(e)}), 400\n",
    "\n",
    "    try:\n",
    "        # normalization and type coercion\n",
    "        # lowercase the incoming column names to avoid case-mismatch with model features\n",
    "        df.columns = [c.lower() for c in df.columns]\n",
    "        df['followers_count'] = pd.to_numeric(df.get('followers_count', 0), errors='coerce').fillna(0)\n",
    "        df['friends_count'] = pd.to_numeric(df.get('friends_count', 0), errors='coerce').fillna(0)\n",
    "        df['statuses_count'] = pd.to_numeric(df.get('statuses_count', 0), errors='coerce').fillna(0)\n",
    "        df['default_profile_image'] = pd.to_numeric(df.get('default_profile_image', 0), errors='coerce').fillna(0)\n",
    "        df['protected'] = pd.to_numeric(df.get('protected', 0), errors='coerce').fillna(0)\n",
    "    except Exception as e:\n",
    "        return jsonify({'error': 'Data Pre-cleaning Failed', 'details': str(e)}), 400\n",
    "\n",
    "    # ensure columns exist and track completeness\n",
    "    feature_present_count = 0\n",
    "    missing_features_list = []\n",
    "    for expected_raw_col, default_col_name in RAW_COLUMNS_NEEDED.items():\n",
    "        if default_col_name in df.columns:\n",
    "            df[default_col_name] = df[default_col_name].fillna(0)\n",
    "            feature_present_count = feature_present_count + 1\n",
    "        else:\n",
    "            df[default_col_name] = 0\n",
    "            missing_features_list.append(default_col_name)\n",
    "\n",
    "    try:\n",
    "        df['name_raw'] = df.get('name', pd.Series(['unknown']*len(df))).fillna('unknown')\n",
    "        df['name_length'] = df['name_raw'].apply(lambda x: len(str(x)))\n",
    "        # compute follower_ratio in lowercase to match EXPECTED_FEATURES\n",
    "        df['follower_ratio'] = df['followers_count'] / (df['friends_count'] + 1)\n",
    "        df['default_profile_image'] = df['default_profile_image'].astype(int)\n",
    "        df['protected'] = df['protected'].astype(int)\n",
    "        df['statuses_count'] = df['statuses_count'].astype(int)\n",
    "    except Exception as e:\n",
    "        return jsonify({'error': 'Data Transformation Failed', 'details': str(e)}), 500\n",
    "\n",
    "    # prediction and downstream processing wrapped to return JSON on error\n",
    "    try:\n",
    "        X_predict = df[EXPECTED_FEATURES]\n",
    "        prediction_probas = MODEL.predict_proba(X_predict)[:, 1]\n",
    "        df['Suspicion_Score'] = np.round(prediction_probas * 100, 2)\n",
    "        df['Risk_Analysis'] = df['Suspicion_Score'].apply(assign_risk_category)\n",
    "        df['Risk_Category'] = df['Risk_Analysis'].apply(lambda x: x['category'])\n",
    "        df['Risk_Color'] = df['Risk_Analysis'].apply(lambda x: x['color'])\n",
    "    except Exception as e:\n",
    "\n",
    "        return jsonify({'error': 'Prediction Failed', 'details': str(e)}), 500\n",
    "\n",
    "    completness_message = f\"{feature_present_count} of {len(RAW_COLUMNS_NEEDED)} critical raw columns present. Missing : {', '.join(missing_features_list) if missing_features_list else 'None' }\"\n",
    "    df_suspicious = df[df['Suspicion_Score'] > 30].sort_values(by = 'Suspicion_Score', ascending=False)\n",
    "    avg_suspicion = df_suspicious['Suspicion_Score'].mean() if not df_suspicious.empty else 0\n",
    "    final_table_data = df_suspicious[[\n",
    "        'id', 'name_raw',  'screen_name', 'Suspicion_Score', 'Risk_Category', 'Risk_Color'\n",
    "    ]].rename(columns={'id': 'Profile_ID', 'name_raw': 'Name', 'screen_name': 'Handle'})\n",
    "\n",
    "    response_data = {\n",
    "        'completness_score': feature_present_count,\n",
    "        'completness_total': len(RAW_COLUMNS_NEEDED),\n",
    "        'completness_message': completness_message,\n",
    "        'profiles': final_table_data.to_dict('records'),\n",
    "        'suspicion_score_average': round(avg_suspicion, 0)\n",
    "    }\n",
    "    return jsonify(response_data)\n",
    "\n",
    "# start server in background if not already running\n",
    "nest_asyncio.apply()\n",
    "if 'server_thread' not in globals() or not server_thread.is_alive():\n",
    "    def run_flask_app():\n",
    "        app.run(debug=False, use_reloader=False, port=8000)\n",
    "    server_thread = threading.Thread(target=run_flask_app)\n",
    "    server_thread.start()\n",
    "    print(\"\\n--- FLASK SERVER STATUS ---\")\n",
    "    print(\"Flask server started successfully on http://127.0.0.1:8000/\")\n",
    "else:\n",
    "    print(\"\\n--- FLASK SERVER STATUS ---\")\n",
    "    print(\"Flask server started successfully on http://127.0.0.1:8000/\")"
   ]
  },
  {
   "cell_type": "code",
   "execution_count": null,
   "id": "aa201b42",
   "metadata": {},
   "outputs": [],
   "source": []
  }
 ],
 "metadata": {
  "kernelspec": {
   "display_name": "base",
   "language": "python",
   "name": "python3"
  },
  "language_info": {
   "codemirror_mode": {
    "name": "ipython",
    "version": 3
   },
   "file_extension": ".py",
   "mimetype": "text/x-python",
   "name": "python",
   "nbconvert_exporter": "python",
   "pygments_lexer": "ipython3",
   "version": "3.12.7"
  }
 },
 "nbformat": 4,
 "nbformat_minor": 5
}
