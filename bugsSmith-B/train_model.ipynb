{
 "cells": [
  {
   "cell_type": "code",
   "execution_count": 9,
   "id": "00ac43a6",
   "metadata": {},
   "outputs": [],
   "source": [
    "import pandas as pd\n",
    "from sklearn.model_selection import train_test_split\n",
    "from sklearn.ensemble import RandomForestClassifier\n",
    "from sklearn.metrics import accuracy_score, classification_report\n",
    "import joblib"
   ]
  },
  {
   "cell_type": "code",
   "execution_count": 10,
   "id": "374285f5",
   "metadata": {},
   "outputs": [],
   "source": [
    "DATA_FILE = './output-files/processed_users.csv'\n",
    "MODEL_OUTPUT_FILE = './random_forest_model.pkl'"
   ]
  },
  {
   "cell_type": "code",
   "execution_count": 11,
   "id": "213a9a54",
   "metadata": {},
   "outputs": [],
   "source": [
    "FEATURES = [\n",
    "    'default_profile_image',\n",
    "    'statuses_count',\n",
    "    'followers_count',\n",
    "    'friends_count',\n",
    "    'protected',\n",
    "    'name_length',\n",
    "    'follower_ratio'\n",
    "]\n",
    "\n",
    "TARGET = 'is_fake'"
   ]
  },
  {
   "cell_type": "code",
   "execution_count": 12,
   "id": "9f681e12",
   "metadata": {},
   "outputs": [
    {
     "name": "stdout",
     "output_type": "stream",
     "text": [
      "Training Model on : 5460 profiles\n",
      "Testing Model on : 1365 profiles\n",
      "Starting Model Training...\n",
      "Model Training Completed\n",
      "----------------------------------------------------\n",
      "Evaluating Model...\n",
      "-------PoC Performance Report-------\n",
      "Overall Accuracy:  98.39%\n",
      "\n",
      "Detailed Classification Report:\n",
      "              precision    recall  f1-score   support\n",
      "\n",
      "  Genuine(0)       0.99      0.98      0.98       695\n",
      "     Fake(1)       0.98      0.99      0.98       670\n",
      "\n",
      "    accuracy                           0.98      1365\n",
      "   macro avg       0.98      0.98      0.98      1365\n",
      "weighted avg       0.98      0.98      0.98      1365\n",
      "\n",
      "Trained Model saved at ./random_forest_model.pkl\n"
     ]
    }
   ],
   "source": [
    "try:\n",
    "    data = pd.read_csv(DATA_FILE)\n",
    "\n",
    "    X = data[FEATURES]\n",
    "    Y = data[TARGET]\n",
    "\n",
    "    X_train, X_test, Y_train, Y_test = train_test_split(X, Y, test_size=0.2, random_state=42, stratify=Y)\n",
    "\n",
    "    print(f\"Training Model on : {len(X_train)} profiles\")\n",
    "    print(f\"Testing Model on : {len(X_test)} profiles\")\n",
    "\n",
    "    print(\"Starting Model Training...\")\n",
    "    model = RandomForestClassifier(n_estimators=100, random_state=42)\n",
    "    model.fit(X_train, Y_train)\n",
    "    print(\"Model Training Completed\")\n",
    "    print(\"----------------------------------------------------\")\n",
    "\n",
    "    print(\"Evaluating Model...\")\n",
    "    Y_pred = model.predict(X_test)\n",
    "    accuracy = accuracy_score(Y_test, Y_pred)\n",
    "\n",
    "    print(\"-------PoC Performance Report-------\")\n",
    "    print(f\"Overall Accuracy: {accuracy*100: .2f}%\")\n",
    "    print(\"\\nDetailed Classification Report:\")\n",
    "    print(classification_report(Y_test, Y_pred, target_names=['Genuine(0)', 'Fake(1)']))\n",
    "\n",
    "    joblib.dump(model, MODEL_OUTPUT_FILE)\n",
    "    print(f\"Trained Model saved at {MODEL_OUTPUT_FILE}\")\n",
    "\n",
    "except FileNotFoundError:\n",
    "    print(f\"Error: The dataset file {DATA_FILE} was not found.\")\n",
    "except KeyError as e:\n",
    "    print(f\"Error: One of the defined columns was not found in the CSV. Check feature names: {e}\")"
   ]
  }
 ],
 "metadata": {
  "kernelspec": {
   "display_name": "base",
   "language": "python",
   "name": "python3"
  },
  "language_info": {
   "codemirror_mode": {
    "name": "ipython",
    "version": 3
   },
   "file_extension": ".py",
   "mimetype": "text/x-python",
   "name": "python",
   "nbconvert_exporter": "python",
   "pygments_lexer": "ipython3",
   "version": "3.12.7"
  }
 },
 "nbformat": 4,
 "nbformat_minor": 5
}
