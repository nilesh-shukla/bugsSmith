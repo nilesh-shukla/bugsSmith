{
 "cells": [
  {
   "cell_type": "code",
   "execution_count": 20,
   "id": "7431801d",
   "metadata": {},
   "outputs": [
    {
     "name": "stdout",
     "output_type": "stream",
     "text": [
      "Requirement already satisfied: Flask in c:\\users\\shukl\\anaconda3\\lib\\site-packages (3.0.3)\n",
      "Requirement already satisfied: joblib in c:\\users\\shukl\\anaconda3\\lib\\site-packages (1.1.1)\n",
      "Requirement already satisfied: numpy in c:\\users\\shukl\\anaconda3\\lib\\site-packages (1.26.4)\n",
      "Requirement already satisfied: pandas in c:\\users\\shukl\\anaconda3\\lib\\site-packages (2.2.2)\n",
      "Requirement already satisfied: nest-asyncio in c:\\users\\shukl\\anaconda3\\lib\\site-packages (1.6.0)\n",
      "Requirement already satisfied: Werkzeug>=3.0.0 in c:\\users\\shukl\\anaconda3\\lib\\site-packages (from Flask) (3.0.3)\n",
      "Requirement already satisfied: Jinja2>=3.1.2 in c:\\users\\shukl\\anaconda3\\lib\\site-packages (from Flask) (3.1.4)\n",
      "Requirement already satisfied: itsdangerous>=2.1.2 in c:\\users\\shukl\\anaconda3\\lib\\site-packages (from Flask) (2.2.0)\n",
      "Requirement already satisfied: click>=8.1.3 in c:\\users\\shukl\\anaconda3\\lib\\site-packages (from Flask) (8.1.7)\n",
      "Requirement already satisfied: blinker>=1.6.2 in c:\\users\\shukl\\anaconda3\\lib\\site-packages (from Flask) (1.6.2)\n",
      "Requirement already satisfied: python-dateutil>=2.8.2 in c:\\users\\shukl\\anaconda3\\lib\\site-packages (from pandas) (2.9.0.post0)\n",
      "Requirement already satisfied: pytz>=2020.1 in c:\\users\\shukl\\anaconda3\\lib\\site-packages (from pandas) (2024.1)\n",
      "Requirement already satisfied: tzdata>=2022.7 in c:\\users\\shukl\\anaconda3\\lib\\site-packages (from pandas) (2023.3)\n",
      "Requirement already satisfied: colorama in c:\\users\\shukl\\anaconda3\\lib\\site-packages (from click>=8.1.3->Flask) (0.4.6)\n",
      "Requirement already satisfied: MarkupSafe>=2.0 in c:\\users\\shukl\\anaconda3\\lib\\site-packages (from Jinja2>=3.1.2->Flask) (2.1.3)\n",
      "Requirement already satisfied: six>=1.5 in c:\\users\\shukl\\anaconda3\\lib\\site-packages (from python-dateutil>=2.8.2->pandas) (1.16.0)\n",
      "Note: you may need to restart the kernel to use updated packages.\n"
     ]
    }
   ],
   "source": [
    "%pip install Flask joblib numpy pandas nest-asyncio"
   ]
  },
  {
   "cell_type": "code",
   "execution_count": 45,
   "id": "e6b5b6f0",
   "metadata": {},
   "outputs": [],
   "source": [
    "import pandas as pd\n",
    "import numpy as np\n",
    "import joblib\n",
    "from flask import Flask, request, jsonify\n",
    "import nest_asyncio"
   ]
  },
  {
   "cell_type": "code",
   "execution_count": 46,
   "id": "47f5b25a",
   "metadata": {},
   "outputs": [],
   "source": [
    "MODEL_FILE_PATH = './random_forest_model.pkl'\n",
    "\n",
    "EXPECTED_FEATURES = [\n",
    "    'default_profile_image',\n",
    "    'statuses_count',\n",
    "    'followers_count',\n",
    "    'friends_count',\n",
    "    'protected',\n",
    "    'name_length',\n",
    "    'follower_ratio'\n",
    "]"
   ]
  },
  {
   "cell_type": "code",
   "execution_count": 47,
   "id": "b1f86d47",
   "metadata": {},
   "outputs": [
    {
     "name": "stdout",
     "output_type": "stream",
     "text": [
      "Model ./random_forest_model.pkl loaded successfully.\n"
     ]
    }
   ],
   "source": [
    "try:\n",
    "    MODEL = joblib.load(MODEL_FILE_PATH)\n",
    "    print(f\"Model {MODEL_FILE_PATH} loaded successfully.\")\n",
    "except FileNotFoundError:\n",
    "    print(f\"FATAL ERROR: Model file not found at {MODEL_FILE_PATH}.\")\n",
    "    raise Exception(\"Model loading failed.\")"
   ]
  },
  {
   "cell_type": "code",
   "execution_count": 48,
   "id": "ad52fd7d",
   "metadata": {},
   "outputs": [],
   "source": [
    "app = Flask(__name__)\n",
    "@app.route('/predict', methods=['POST'])\n",
    "def predict():\n",
    "    \"\"\"Receives JSON data, runs the prediction, and returns the result.\"\"\"\n",
    "    try:\n",
    "        data = request.get_json(force=True)\n",
    "        feature_values = [data[f] for f in EXPECTED_FEATURES]\n",
    "        final_features = np.array(feature_values).reshape(1, -1)\n",
    "\n",
    "        prediction_class = MODEL.predict(final_features)[0]\n",
    "        prediction_proba = MODEL.predict_proba(final_features)[0][1] \n",
    "\n",
    "        result = {\n",
    "            'prediction_class': int(prediction_class),\n",
    "            'suspicion_score_percent': round(prediction_proba * 100, 2),\n",
    "            'status': 'FAKE PROFILE DETECTED' if prediction_class == 1 else 'GENUINE PROFILE'\n",
    "        }\n",
    "        return jsonify(result)\n",
    "\n",
    "    except KeyError as e:\n",
    "        return jsonify({'error': 'Missing Feature', 'details': f\"Input is missing the feature: {e}\"}), 400\n",
    "    except Exception as e:\n",
    "        return jsonify({'error': 'Prediction failed', 'details': str(e)}), 500"
   ]
  },
  {
   "cell_type": "code",
   "execution_count": 49,
   "id": "cbd843ef",
   "metadata": {},
   "outputs": [],
   "source": [
    "import requests\n",
    "import json\n",
    "import threading\n",
    "import time"
   ]
  },
  {
   "cell_type": "code",
   "execution_count": 50,
   "id": "3a7694aa",
   "metadata": {},
   "outputs": [
    {
     "name": "stdout",
     "output_type": "stream",
     "text": [
      "Flask server started on port 5000. Waiting 3 seconds before testing...\n",
      " * Serving Flask app '__main__'\n",
      " * Debug mode: on\n"
     ]
    },
    {
     "name": "stderr",
     "output_type": "stream",
     "text": [
      "WARNING: This is a development server. Do not use it in a production deployment. Use a production WSGI server instead.\n",
      " * Running on http://127.0.0.1:5000\n",
      "Press CTRL+C to quit\n"
     ]
    }
   ],
   "source": [
    "# ------- Starting the Server -------\n",
    "\n",
    "nest_asyncio.apply()\n",
    "\n",
    "def run_flask_app():\n",
    "    app.run(debug=True, use_reloader=False, port=5000)\n",
    "\n",
    "threading.Thread(target=run_flask_app).start()\n",
    "\n",
    "print(\"Flask server started on port 5000. Waiting 3 seconds before testing...\")\n",
    "time.sleep(3)"
   ]
  },
  {
   "cell_type": "code",
   "execution_count": null,
   "id": "c7174753",
   "metadata": {},
   "outputs": [
    {
     "name": "stderr",
     "output_type": "stream",
     "text": [
      "c:\\Users\\shukl\\anaconda3\\Lib\\site-packages\\sklearn\\base.py:493: UserWarning: X does not have valid feature names, but RandomForestClassifier was fitted with feature names\n",
      "  warnings.warn(\n",
      "c:\\Users\\shukl\\anaconda3\\Lib\\site-packages\\sklearn\\base.py:493: UserWarning: X does not have valid feature names, but RandomForestClassifier was fitted with feature names\n",
      "  warnings.warn(\n",
      "127.0.0.1 - - [02/Oct/2025 16:16:38] \"POST /predict HTTP/1.1\" 200 -\n"
     ]
    },
    {
     "name": "stdout",
     "output_type": "stream",
     "text": [
      "\n",
      "--- API Test Result (Status: 200) ---\n",
      "{\n",
      "    \"prediction_class\": 1,\n",
      "    \"status\": \"FAKE PROFILE DETECTED\",\n",
      "    \"suspicion_score_percent\": 77.0\n",
      "}\n",
      "\n",
      "SUCCESS: The API is live and correctly classified the test profile is FAKE.\n"
     ]
    },
    {
     "name": "stderr",
     "output_type": "stream",
     "text": [
      "127.0.0.1 - - [02/Oct/2025 16:16:45] \"GET / HTTP/1.1\" 404 -\n"
     ]
    }
   ],
   "source": [
    "test_data = {\n",
    "    \"default_profile_image\": 1.0,\n",
    "    \"statuses_count\": 5,\n",
    "    \"followers_count\": 10,\n",
    "    \"friends_count\": 5000,\n",
    "    \"protected\": 0.0,\n",
    "    \"name_length\": 6,              \n",
    "    \"follower_ratio\": 0.002\n",
    "}\n",
    "\n",
    "try:\n",
    "    response = requests.post(\n",
    "        'http://127.0.0.1:5000/predict',\n",
    "        json=test_data,\n",
    "        timeout=5\n",
    "    )\n",
    "\n",
    "    print(f\"\\n--- API Test Result (Status: {response.status_code}) ---\")\n",
    "    print(json.dumps(response.json(), indent=4))\n",
    "\n",
    "    if response.status_code == 200 and response.json().get('prediction_class') == 1:\n",
    "        print(\"\\nSUCCESS: The API is live and correctly classified the test profile is FAKE.\")\n",
    "    else:\n",
    "        print(\"\\nFAILURE: Check the feature names and data type in the JSON body.\")\n",
    "\n",
    "except requests.exceptions.ConnectionError:\n",
    "    print(\"\\nERROR: Could not connect to the Flask Server.\")\n",
    "except Exception as e:\n",
    "    print(f\"\\n An unexpected error occurred during testing: {e}\")"
   ]
  }
 ],
 "metadata": {
  "kernelspec": {
   "display_name": "base",
   "language": "python",
   "name": "python3"
  },
  "language_info": {
   "codemirror_mode": {
    "name": "ipython",
    "version": 3
   },
   "file_extension": ".py",
   "mimetype": "text/x-python",
   "name": "python",
   "nbconvert_exporter": "python",
   "pygments_lexer": "ipython3",
   "version": "3.12.7"
  }
 },
 "nbformat": 4,
 "nbformat_minor": 5
}
